{
 "cells": [
  {
   "cell_type": "code",
   "execution_count": 1,
   "id": "c51962e5",
   "metadata": {},
   "outputs": [],
   "source": [
    "import pandas as pd\n",
    "import numpy as np\n",
    "import pickle\n",
    "import matplotlib.pyplot as plt\n",
    "import seaborn as sns\n",
    "import warnings\n",
    "warnings.filterwarnings('ignore')"
   ]
  },
  {
   "cell_type": "code",
   "execution_count": 2,
   "id": "ad5dbc5a",
   "metadata": {},
   "outputs": [],
   "source": [
    "import sys\n",
    "sys.path.append('..')"
   ]
  },
  {
   "cell_type": "code",
   "execution_count": 3,
   "id": "bf103d90",
   "metadata": {},
   "outputs": [],
   "source": [
    "version = 300"
   ]
  },
  {
   "cell_type": "code",
   "execution_count": 9,
   "id": "3a541cf4",
   "metadata": {},
   "outputs": [],
   "source": [
    "order_list = ['harm pos', 'harm neg', 'fairness pos', 'fairness neg','authority pos', 'authority neg', \n",
    "              'loyalty pos', 'loyalty neg', 'purity pos', 'purity neg',]\n",
    "\n"
   ]
  },
  {
   "cell_type": "markdown",
   "id": "aea83f6f",
   "metadata": {},
   "source": [
    "## Central peripheral"
   ]
  },
  {
   "cell_type": "code",
   "execution_count": 12,
   "id": "fe500ca8",
   "metadata": {},
   "outputs": [],
   "source": [
    "frequency_df = pd.read_csv(f'../../data/Survey Data/N300/freqs/v2_new_frequency_ses_count_weighted_full_CHILDES_version_N{version}_certain_fvote_True.csv')\n",
    "frequency_df['sentiment'] = ['Positive' if s == 'pos' else 'Negative' for s in frequency_df['sentiment']]"
   ]
  },
  {
   "cell_type": "code",
   "execution_count": 13,
   "id": "6c7b33de",
   "metadata": {},
   "outputs": [
    {
     "data": {
      "text/html": [
       "<div>\n",
       "<style scoped>\n",
       "    .dataframe tbody tr th:only-of-type {\n",
       "        vertical-align: middle;\n",
       "    }\n",
       "\n",
       "    .dataframe tbody tr th {\n",
       "        vertical-align: top;\n",
       "    }\n",
       "\n",
       "    .dataframe thead th {\n",
       "        text-align: right;\n",
       "    }\n",
       "</style>\n",
       "<table border=\"1\" class=\"dataframe\">\n",
       "  <thead>\n",
       "    <tr style=\"text-align: right;\">\n",
       "      <th></th>\n",
       "      <th>Unnamed: 0</th>\n",
       "      <th>category</th>\n",
       "      <th>sentiment</th>\n",
       "      <th>moral foundation</th>\n",
       "      <th>age</th>\n",
       "      <th>identity</th>\n",
       "      <th>count</th>\n",
       "      <th>non mfd</th>\n",
       "      <th>non-moral</th>\n",
       "      <th>sum</th>\n",
       "      <th>freq</th>\n",
       "      <th>moral frequency</th>\n",
       "      <th>race</th>\n",
       "      <th>social class</th>\n",
       "    </tr>\n",
       "  </thead>\n",
       "  <tbody>\n",
       "    <tr>\n",
       "      <th>60</th>\n",
       "      <td>60</td>\n",
       "      <td>harm</td>\n",
       "      <td>Positive</td>\n",
       "      <td>harm pos</td>\n",
       "      <td>4</td>\n",
       "      <td>child</td>\n",
       "      <td>127</td>\n",
       "      <td>21001</td>\n",
       "      <td>888</td>\n",
       "      <td>22016</td>\n",
       "      <td>0.005769</td>\n",
       "      <td>0.466683</td>\n",
       "      <td>Black</td>\n",
       "      <td>UC</td>\n",
       "    </tr>\n",
       "    <tr>\n",
       "      <th>61</th>\n",
       "      <td>61</td>\n",
       "      <td>harm</td>\n",
       "      <td>Negative</td>\n",
       "      <td>harm neg</td>\n",
       "      <td>4</td>\n",
       "      <td>child</td>\n",
       "      <td>100</td>\n",
       "      <td>21001</td>\n",
       "      <td>9</td>\n",
       "      <td>21110</td>\n",
       "      <td>0.004737</td>\n",
       "      <td>0.383238</td>\n",
       "      <td>Black</td>\n",
       "      <td>UC</td>\n",
       "    </tr>\n",
       "    <tr>\n",
       "      <th>62</th>\n",
       "      <td>62</td>\n",
       "      <td>authority</td>\n",
       "      <td>Positive</td>\n",
       "      <td>authority pos</td>\n",
       "      <td>4</td>\n",
       "      <td>child</td>\n",
       "      <td>0</td>\n",
       "      <td>21001</td>\n",
       "      <td>8</td>\n",
       "      <td>21009</td>\n",
       "      <td>0.000000</td>\n",
       "      <td>0.000000</td>\n",
       "      <td>Black</td>\n",
       "      <td>UC</td>\n",
       "    </tr>\n",
       "  </tbody>\n",
       "</table>\n",
       "</div>"
      ],
      "text/plain": [
       "    Unnamed: 0   category sentiment moral foundation  age identity  count  \\\n",
       "60          60       harm  Positive         harm pos    4    child    127   \n",
       "61          61       harm  Negative         harm neg    4    child    100   \n",
       "62          62  authority  Positive    authority pos    4    child      0   \n",
       "\n",
       "    non mfd  non-moral    sum      freq  moral frequency   race social class  \n",
       "60    21001        888  22016  0.005769         0.466683  Black           UC  \n",
       "61    21001          9  21110  0.004737         0.383238  Black           UC  \n",
       "62    21001          8  21009  0.000000         0.000000  Black           UC  "
      ]
     },
     "execution_count": 13,
     "metadata": {},
     "output_type": "execute_result"
    }
   ],
   "source": [
    "frequency_df.loc[frequency_df.age == 4].head(3)"
   ]
  },
  {
   "cell_type": "code",
   "execution_count": 14,
   "id": "c659ea6f",
   "metadata": {},
   "outputs": [],
   "source": [
    "frequency_df['frequency of moral language'] = frequency_df['count'] / frequency_df['sum']"
   ]
  },
  {
   "cell_type": "code",
   "execution_count": 15,
   "id": "4b9fafce",
   "metadata": {},
   "outputs": [],
   "source": [
    "child_df = frequency_df.loc[frequency_df.identity == 'child']\n",
    "parent_df = frequency_df.loc[frequency_df.identity == 'parent']\n",
    "\n",
    "\n",
    "order_list = ['harm pos', 'harm neg', 'fairness pos', 'fairness neg','authority pos', 'authority neg', \n",
    "              'loyalty pos', 'loyalty neg', 'purity pos', 'purity neg',]\n",
    "\n"
   ]
  },
  {
   "cell_type": "code",
   "execution_count": 44,
   "id": "398d673d",
   "metadata": {},
   "outputs": [
    {
     "data": {
      "image/png": "[encoded data removed]",
      "text/plain": [
       "<Figure size 468x720 with 8 Axes>"
      ]
     },
     "metadata": {
      "needs_background": "light"
     },
     "output_type": "display_data"
    }
   ],
   "source": [
    "fig ,axes = plt.subplots(4, 2,figsize = (6.5, 10), sharex = False, sharey = True)\n",
    "ids = ['CDS', 'CS']\n",
    "dfs = [parent_df, child_df]\n",
    "for i , df in enumerate(dfs):\n",
    "    \n",
    "    black_uc = df.loc[(df.race == 'Black') & (df['social class'] == 'UC' )]\n",
    "    white_uc = df.loc[(df.race == 'White') & (df['social class'] == 'UC' )]\n",
    "    black_wc = df.loc[(df.race == 'Black') & (df['social class'] == 'WC' )]\n",
    "    white_wc = df.loc[(df.race == 'White') & (df['social class'] == 'WC' )]\n",
    "    df_list = [black_uc,black_wc, white_uc , white_wc]\n",
    "    for j, ses_df in enumerate(df_list):\n",
    "        \n",
    "#         ax = axes[j // 2, 2 * i  + j % 2]\n",
    "        ax =  axes[2 * i  + j % 2,j // 2]\n",
    "    \n",
    "        g = sns.barplot(data = ses_df,  x = 'moral foundation' , y = 'frequency of moral language',\n",
    "                     ax = ax, hue = 'sentiment',dodge=False,order = order_list)\n",
    "\n",
    "       \n",
    "\n",
    "        \n",
    "        \n",
    "        sns.despine(left = False,top = True)\n",
    "        if  2 * i  + j % 2 != 0:\n",
    "            ax.set_xlabel('')\n",
    "        if (2 * i  + j % 2 ) % 2 != 0:\n",
    "            ax.set_ylabel('')\n",
    "        \n",
    "        \n",
    "            \n",
    "\n",
    "        if j // 2 != 0:\n",
    "#             ax.set_xlabel('')\n",
    "            ax.set_ylabel('')\n",
    "        ax.set_xticklabels(['Care' ,'Harm','Fairness', 'Cheating','Authority', 'Subversion','Loyalty' ,'Betrayal',\n",
    "                            'Purity', 'Degradation'], rotation = 90)\n",
    "        if (2 * i  + j % 2 ) % 2 != 0:\n",
    "            ax.set_xticklabels([''] * 10, rotation = 90)\n",
    "            \n",
    "            \n",
    "        race= list(ses_df['race'])[0]\n",
    "        social_class= list(ses_df['social class'])[0]\n",
    "        ax.set_title(f'race = {race} | social class = {social_class}')\n",
    "        ax.legend_ = None\n",
    "        locs = ax.get_xticks()\n",
    "       \n",
    "        for k,patch in enumerate(ax.patches):\n",
    "            current_width = patch.get_width()\n",
    "            \n",
    "            new_value = 0.4\n",
    "            diff = current_width - new_value\n",
    "\n",
    "            # we change the bar width\n",
    "            patch.set_width(new_value)\n",
    "\n",
    "            # we recenter the bar\n",
    "            patch.set_x(patch.get_x() + diff * .5)\n",
    "\n",
    "fig.tight_layout()\n",
    "\n",
    "\n",
    "\n",
    "plt.savefig(f'../../moral_sentence_weighted_vote_ses_frequency_full_version_N{version}_vertical.png', dpi = 200, bbox_inches = 'tight')\n",
    "plt.show()"
   ]
  },
  {
   "cell_type": "code",
   "execution_count": null,
   "id": "330bb797",
   "metadata": {},
   "outputs": [],
   "source": []
  }
 ],
 "metadata": {
  "kernelspec": {
   "display_name": "Python 3 (ipykernel)",
   "language": "python",
   "name": "python3"
  },
  "language_info": {
   "codemirror_mode": {
    "name": "ipython",
    "version": 3
   },
   "file_extension": ".py",
   "mimetype": "text/x-python",
   "name": "python",
   "nbconvert_exporter": "python",
   "pygments_lexer": "ipython3",
   "version": "3.9.6"
  }
 },
 "nbformat": 4,
 "nbformat_minor": 5
}
